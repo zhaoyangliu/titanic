{
 "metadata": {
  "name": "",
  "signature": "sha256:cd76f83504463301a100ade69cc9d916cc5214e4b66642243a080efc1342c13a"
 },
 "nbformat": 3,
 "nbformat_minor": 0,
 "worksheets": [
  {
   "cells": [
    {
     "cell_type": "code",
     "collapsed": false,
     "input": [
      "import sys\n",
      "import os\n",
      "\n",
      "import pandas as pd\n",
      "import numpy as np\n",
      "import statsmodels.api as sm\n",
      "\n",
      "from statsmodels.nonparametric import  smoothers_lowess\n",
      "from statsmodels.nonparametric import kde\n",
      "from pandas import Series,DataFrame\n",
      "from patsy import dmatrices\n",
      "import matplotlib.pyplot as plt\n",
      "from pylab import *\n",
      "\n",
      "from statsmodels.nonparametric.kde import KDEUnivariate\n",
      "\n",
      "\n",
      "lib_path = os.popen(\"pwd\").read()[:-1] + \"/lib\"\n",
      "sys.path.append(lib_path)\n",
      "import kaggleaux as ka\n"
     ],
     "language": "python",
     "metadata": {},
     "outputs": [],
     "prompt_number": 1
    },
    {
     "cell_type": "code",
     "collapsed": false,
     "input": [
      "df = pd.read_csv(\"train.csv\")\n",
      "df = df.drop(['Ticket','Cabin'], axis=1)\n",
      "df = df.dropna() # Remove NaN values"
     ],
     "language": "python",
     "metadata": {},
     "outputs": [],
     "prompt_number": 2
    },
    {
     "cell_type": "code",
     "collapsed": false,
     "input": [
      "plt.figure(figsize=(6,4))\n",
      "df.Survived.value_counts().plot(kind='bar', color=\"grey\", alpha=0.35, title=\"Survival (1 = Survived, 0 = Died)\")\n",
      "plt.ylabel(\"Number of Persons\", fontsize=20)\n",
      "ax=plt.gca()\n",
      "ax.set_xticklabels([\"Died\", \"Survived\"], rotation=0)\n",
      "plt.show()"
     ],
     "language": "python",
     "metadata": {},
     "outputs": []
    },
    {
     "cell_type": "code",
     "collapsed": false,
     "input": [],
     "language": "python",
     "metadata": {},
     "outputs": []
    }
   ],
   "metadata": {}
  }
 ]
}